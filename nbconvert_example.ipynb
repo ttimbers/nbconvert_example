{
 "cells": [
  {
   "cell_type": "markdown",
   "metadata": {},
   "source": [
    "# `nbconvert` example:\n",
    "This is a notebook that can be executed from the command line using nbconvert. The example usage to execute it at the command line is:\n",
    "\n",
    "```\n",
    "jupyter nbconvert --to notebook --execute nbconvert_example.ipynb\n",
    "```\n",
    "\n",
    "This notebook downloads the gapminder data set, prints the first six lines of the data set to the terminal and saves the dataset as a `.csv` called `gapminder.csv`. "
   ]
  },
  {
   "cell_type": "code",
   "execution_count": null,
   "metadata": {},
   "outputs": [],
   "source": [
    "import pandas as pd"
   ]
  },
  {
   "cell_type": "code",
   "execution_count": null,
   "metadata": {},
   "outputs": [],
   "source": [
    "file_name = \"https://raw.githubusercontent.com/jennybc/gapminder/master/data-raw/08_gap-every-five-years.tsv\"\n",
    "df = pd.read_csv(file_name, sep = \"\\t\")\n",
    "print(df.head())\n",
    "df.to_csv(\"gapminder.csv\")"
   ]
  }
 ],
 "metadata": {
  "kernelspec": {
   "display_name": "Python 3",
   "language": "python",
   "name": "python3"
  },
  "language_info": {
   "codemirror_mode": {
    "name": "ipython",
    "version": 3
   },
   "file_extension": ".py",
   "mimetype": "text/x-python",
   "name": "python",
   "nbconvert_exporter": "python",
   "pygments_lexer": "ipython3",
   "version": "3.6.5"
  }
 },
 "nbformat": 4,
 "nbformat_minor": 2
}
